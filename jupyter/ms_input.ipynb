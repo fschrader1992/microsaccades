{
 "cells": [
  {
   "cell_type": "markdown",
   "metadata": {},
   "source": [
    "# INPUT AND FILTER STAGES\n",
    "\n",
    "This program takes and converts the input and processes it through the filter stages for both, midget and parasol cells.\n",
    "\n",
    "Make sure you've installed all the necessary modules."
   ]
  },
  {
   "cell_type": "code",
   "execution_count": null,
   "metadata": {
    "collapsed": false
   },
   "outputs": [],
   "source": [
    "#!/bin/python\n",
    "#THIS PART READS THE PIXELS OF A MOVIE AND APPLIES THE TEMPORAL FILTERS TO THE PROPOSED MODEL FOR MICROSACCADES. \n",
    "#THE OUTPUT ARE THE POTENTIAL VALUES FOR THE POISSON RATES.\n",
    "\n",
    "'''\n",
    "loading the video into list\n",
    "-> first get all the pixels in a frame (grayscale)\n",
    "-> afterwards calculate the values of each tempral filter at each time and store them in another list\n",
    "which will be the basis for changing poisson rates\n",
    "'''\n",
    "\n",
    "import sys\n",
    "import os\n",
    "import glob\n",
    "import pylab as pyl\n",
    "import numpy as np\n",
    "import matplotlib.pyplot as plt\n",
    "import matplotlib.animation as animation\n",
    "import cv2\n",
    "import datetime\n",
    "import itertools \n",
    "#import multiprocessing\n",
    "from microsaccades_functions import *\n",
    "\n",
    "#---------------------------------------------------------------------------------------------------LOAD-FRAMES\n",
    "now = datetime.datetime.now()\n",
    "\n",
    "pgf_with_rc_fonts = {\"font.family\": \"serif\",\"font.serif\": [],\"font.sans-serif\": []}\n",
    "plt.rcParams.update(pgf_with_rc_fonts)"
   ]
  },
  {
   "cell_type": "markdown",
   "metadata": {},
   "source": [
    "Read input from command line"
   ]
  },
  {
   "cell_type": "code",
   "execution_count": null,
   "metadata": {
    "collapsed": true
   },
   "outputs": [],
   "source": [
    "sim_title = sys.argv[1]\n",
    "handle_name = sys.argv[2]\n",
    "fn = sys.argv[3]"
   ]
  },
  {
   "cell_type": "markdown",
   "metadata": {},
   "source": [
    "Next, create a list of all the files (starting \"second\") in the respective repository. Using the cv2 module, the grayscale values for each pixel are stored for each time frame in the list `pixels4d`."
   ]
  },
  {
   "cell_type": "code",
   "execution_count": null,
   "metadata": {
    "collapsed": true
   },
   "outputs": [],
   "source": [
    "frames = []\n",
    "frame_number = int(fn)\n",
    "os.chdir(\"video/img_input/\" + sim_title)\n",
    "for file in glob.glob(\"second*.png\"):\n",
    "    frames+=[file]\n",
    "frames.sort()\n",
    "\n",
    "f=cv2.imread(frames[0])\n",
    "height, width = f.shape[:2]\n",
    "dt = 1.\n",
    "print height, width\n",
    "\n",
    "#assign the all time all pixel list\n",
    "pixels4d = [[[] for j in range(width)] for i in range(height)]\n",
    "\n",
    "for file in frames:\n",
    "\n",
    "    frame = cv2.imread(file)\n",
    "    gray = cv2.cvtColor(frame, cv2.COLOR_BGR2GRAY)\n",
    "    #store 2D list in pixels4d \n",
    "    for i in range(height):\n",
    "        for j in range(width):\n",
    "            pixels4d[i][j]+=[float(gray[i,j])]\n",
    " \n",
    "cv2.destroyAllWindows()\n",
    "\n",
    "os.chdir(\"../../..\")"
   ]
  },
  {
   "cell_type": "code",
   "execution_count": null,
   "metadata": {
    "collapsed": true
   },
   "outputs": [],
   "source": [
    "#----------------------------------------------------------------------------------------------------INITIALIZE\n",
    "on_tau1 = 10. \n",
    "on_tau2 = 15. \n",
    "on_p = .65 \n",
    "\n",
    "#set values for the spatial filters for the pixel\n",
    "alpha = .1\n",
    "beta = 3. #CSR\n",
    "sigma = 1. # parasolic/midget cell ratio * sigma (=1)\n",
    "px_midget_ratio = 1. #pixel to receptor ratio, needed for receptor distance/number\n",
    "px_dist= 0.5 #in arcmin\n",
    "par_m_ratio = 4. #2arcmin center field sigma_c\n",
    "\n",
    "#spatial filter values determined\n",
    "spat_filter_break_radius = 6 #filter radius in px, higher distances omitted\n",
    "\n",
    "#subsequent values\n",
    "midget_dist = px_midget_ratio #1, rest gone, since unit is 1px"
   ]
  },
  {
   "cell_type": "markdown",
   "metadata": {},
   "source": [
    "Get the shape of the temporal filter in 1ms resolution for 200ms."
   ]
  },
  {
   "cell_type": "code",
   "execution_count": null,
   "metadata": {
    "collapsed": false
   },
   "outputs": [],
   "source": [
    "temp_filter_on = tempFilter(200,dt,on_tau1,on_tau2,on_p)      \n",
    "\n",
    "midget_height = int(height/(px_midget_ratio*0.866)) #hexagonal\n",
    "midget_width = int(width/px_midget_ratio)\n",
    "\n",
    "parasol_height = int(height/(par_m_ratio*0.866))\n",
    "parasol_width = int(width/par_m_ratio)\n",
    "\n",
    "#to store values after filter stages\n",
    "midget_pixels4d = np.zeros(shape=(midget_height,midget_width,frame_number))\n",
    "midget_pixels4d = [[[] for j in range(midget_width)] for i in range(midget_height)]\n",
    "\n",
    "#grid structure for cells\n",
    "grid=[[0],[0]]\n",
    "m_grid=[[0],[0]]\n",
    "pgrid=[[0],[0]]\n",
    "\n",
    "midget_grid= [[(0,0) for j in range(midget_width)] for i in range(midget_height)]\n",
    "\n",
    "#---------------------------------------------------------------------------------------MIDGETS-SPATIAL-FILTER \n",
    "print '---'\n",
    "print 'start of midget part'\n",
    "\n",
    "spat_filt_values = [[[] for j in range(midget_width)] for i in range(midget_height)]"
   ]
  },
  {
   "cell_type": "markdown",
   "metadata": {},
   "source": [
    "### SPATIAL FILTERS - MIDGET CELLS\n",
    "\n",
    "Now, two functions are created to calculate the spatially filtered values for the midget cells. \n",
    "`spatFilterPx()` calculates the weighted value for each pixel at distance dist depending on the position of cell. Distances further than `r_break` lead to filter values = 0."
   ]
  },
  {
   "cell_type": "code",
   "execution_count": null,
   "metadata": {
    "collapsed": true
   },
   "outputs": [],
   "source": [
    "def spatFilterPx(center,kl,r_break,sigma,alpha,beta):\n",
    "\n",
    "    klv_w = 0\n",
    "    klv_h = 0\n",
    "    new_kl0,new_kl1 = kl\n",
    "    kl_pos = float(kl[0]),float(kl[1])\n",
    "    \n",
    "    dis_x = (center[0]-kl_pos[0])\n",
    "    dis_y = (center[1]-kl_pos[1])\n",
    "    \n",
    "    dist=np.sqrt(dis_x*dis_x+dis_y*dis_y)\n",
    "\n",
    "    if dist <= r_break:\n",
    "        spat_filter_value = spatialFilter(dist,0,sigma,alpha,beta)\n",
    "    else:\n",
    "        spat_filter_value = 0.\n",
    "    \n",
    "    return spat_filter_value"
   ]
  },
  {
   "cell_type": "markdown",
   "metadata": {},
   "source": [
    "`getSpatFilter(ij)` calculates the position of each cell `ij` at each time frame `q` and creates a list of input pixels that are close by in intervals $[i_{low};i_{ceil}]$, resp. $[j_{low};j_{ceil}]$. It then uses `spatFilterPx()` to add up the filter values for these pixels regarding the midget cell. `pixq` and `spat_filter_values` then get multiplied (with circular boundary conditions)."
   ]
  },
  {
   "cell_type": "code",
   "execution_count": null,
   "metadata": {
    "collapsed": true
   },
   "outputs": [],
   "source": [
    "def getSpatFilter(ij):\n",
    "    \n",
    "    if ij[0]%5==0:\n",
    "        if ij[1]==0:\n",
    "            print ij[0]\n",
    "            \n",
    "    pos_i = 0.866*ij[0]        #2*cos(30deg)*ij[0]  \n",
    "    pos_j = ij[1]\n",
    "    \n",
    "    if ij[0]%2 == 0:\n",
    "        pos_j += 0.5\n",
    "\n",
    "    i_low = int(pos_i*px_midget_ratio-spat_filter_break_radius) # -> all j with dist < r\n",
    "    i_ceil = int(pos_i*px_midget_ratio+spat_filter_break_radius)+1\n",
    "    j_low = int(pos_j*px_midget_ratio-spat_filter_break_radius) # -> all j with dist < r\n",
    "    j_ceil = int(pos_j*px_midget_ratio+spat_filter_break_radius)+1\n",
    "\n",
    "    \n",
    "    #(height, width)\n",
    "    pos=(pos_i,pos_j)\n",
    "    \n",
    "    #if f==0:\n",
    "    grid[0] += [ij[0]]\n",
    "    grid[1] += [ij[1]]\n",
    "    m_grid[0] += [pos_j]\n",
    "    m_grid[1] += [pos_i]\n",
    "    midget_grid[ij[0]][ij[1]] = (pos_j, pos_i) \n",
    "    \n",
    "    #create list with numpy arrays here\n",
    "    #define length + list beforehand\n",
    "    \n",
    "    mp=[0. for g in range(frame_number)]\n",
    "    q_len = abs((j_ceil-j_low)*(i_ceil-i_low))\n",
    "    pxiq = [] #0 for q in range(q_len)]\n",
    "    \n",
    "    for k in range(i_low,i_ceil):\n",
    "        for l in range(j_low,j_ceil):\n",
    "            spat_filt_values[ij[0]][ij[1]] += [spatFilterPx(pos,(k,l),spat_filter_break_radius,sigma,alpha,beta)]\n",
    "            pxiq+=[pixels4d[(height+k)%height][(width+l)%width]]\n",
    "\n",
    "    #spatial filters can allow negative potentials\n",
    "    for q in xrange(q_len):\n",
    "        w = spat_filt_values[ij[0]][ij[1]][q]\n",
    "        muli = [o/255.*w for o in pxiq[q]]\n",
    "        mp = list(itertools.imap(lambda w,z: w+z, muli, mp))\n",
    "        \n",
    "    midget_pixels4d[ij[0]][ij[1]] = mp"
   ]
  },
  {
   "cell_type": "markdown",
   "metadata": {},
   "source": [
    "This function iterates through all midget cells, until all spatially filtered values for each midget cell at each time frame are obtained."
   ]
  },
  {
   "cell_type": "code",
   "execution_count": null,
   "metadata": {
    "collapsed": true
   },
   "outputs": [],
   "source": [
    "map(lambda x: getSpatFilter(x), itertools.product(range(midget_height),range(midget_width)))"
   ]
  },
  {
   "cell_type": "markdown",
   "metadata": {},
   "source": [
    "### TEMPORAL FILTERS - MIDGET CELLS"
   ]
  },
  {
   "cell_type": "code",
   "execution_count": null,
   "metadata": {
    "collapsed": true
   },
   "outputs": [],
   "source": [
    "#output frame for the filtered values at the end\n",
    "#including negative values\n",
    "temp_filter_vals  = np.zeros(shape=(midget_height,midget_width,frame_number))\n",
    "#setting negative values to zero\n",
    "temp_filter_vals_on  = np.zeros(shape=(midget_height,midget_width,frame_number))"
   ]
  },
  {
   "cell_type": "markdown",
   "metadata": {},
   "source": [
    "The next step is the temporal convolution for each time frame and midget cell."
   ]
  },
  {
   "cell_type": "code",
   "execution_count": null,
   "metadata": {
    "collapsed": true
   },
   "outputs": [],
   "source": [
    "#--------------------------------------------------------------------------------------MIDGETS-TEMPORAL-FILTERS\n",
    "print '---'\n",
    "print 'start of temporal part'\n",
    "#now apply the temporal filters: output are two lists for on/off fields\n",
    "for i in range(midget_height):\n",
    "    if i%5==0:\n",
    "        print i\n",
    "    for j in range(midget_width):\n",
    "        temp_midget_px4d = []\n",
    "        pop = temp_midget_px4d.pop\n",
    "        for f in range(frame_number):\n",
    "            #restriction to current 200ms frames\n",
    "            temp_midget_px4d.insert(0, float(midget_pixels4d[i][j][f]))\n",
    "            if f > 200:\n",
    "                pop()\n",
    "            #add a new entry to the time list of pixel i,j\n",
    "            #perform the convolution\n",
    "            trs = sum(itertools.imap(lambda x,y: x*y, temp_midget_px4d, temp_filter_on))\n",
    "            temp_filter_vals_on[i][j][f] = trs if trs > 0 else 0\n",
    "            temp_filter_vals[i][j][f] = trs\n",
    "            #temp_filter_vals_off[i][j][f] = sum(itertools.imap(lambda x,y: x*y, temp_midget_px4d, temp_filter_off))\n",
    "\n",
    "\n",
    "#convert to numpy arrays\n",
    "m_output = np.asarray(temp_filter_vals)\n",
    "m_output_on = np.asarray(temp_filter_vals_on)"
   ]
  },
  {
   "cell_type": "markdown",
   "metadata": {},
   "source": [
    "### SPATIAL FILTER - PARASOL CELLS"
   ]
  },
  {
   "cell_type": "code",
   "execution_count": null,
   "metadata": {
    "collapsed": false
   },
   "outputs": [],
   "source": [
    "#--------------------------------------------------------------------------------------PARASOLS-SPATIAL-FILTERS\n",
    "\n",
    "print '---'\n",
    "print 'start of parasol part'\n",
    "parasol_grid= [[(0,0) for j in range(parasol_width)] for i in range(parasol_height)]\n",
    "\n",
    "#only rectified values\n",
    "par_values = [[[0. for f in range(frame_number)] for j in range(parasol_width)] for i in range(parasol_height)] \n",
    "par_values_on = [[[0. for f in range(frame_number)] for j in range(parasol_width)] for i in range(parasol_height)] \n",
    "par_values_on_off = [[[0. for f in range(frame_number)] for j in range(parasol_width)] for i in range(parasol_height)] \n",
    "\n",
    "#spatially filtered values\n",
    "p_spat_filt_values = [[[] for j in range(midget_width)] for i in range(midget_height)]"
   ]
  },
  {
   "cell_type": "markdown",
   "metadata": {},
   "source": [
    "Again, we define two functions for the spatial filtering, following the structure for the midget cells.\n",
    "First the function to calculate the filter weight."
   ]
  },
  {
   "cell_type": "code",
   "execution_count": null,
   "metadata": {
    "collapsed": true
   },
   "outputs": [],
   "source": [
    "def spatFilterParasol(center,kl,r_break,sigma,alpha,beta):\n",
    "\n",
    "    klv_w = 0\n",
    "    klv_h = 0\n",
    "    new_kl0,new_kl1 = kl\n",
    "    \n",
    "    kl_val = midget_grid[(midget_height+kl[0])%midget_height][(midget_width+kl[1])%midget_width]\n",
    "    n_kl_h=kl_val[0]\n",
    "    n_kl_w=kl_val[1]\n",
    "    \n",
    "    #if that seems strange: midget_grid is transposed in order to show it better in graphics etc.\n",
    "    if kl[0] >= midget_height:\n",
    "        n_kl_w=kl_val[1]+height\n",
    "    if kl[0] < 0:\n",
    "        n_kl_w=kl_val[1]-height\n",
    "    if kl[1] >= midget_width:\n",
    "        n_kl_h=kl_val[0]+width\n",
    "    if kl[1] < 0:\n",
    "        n_kl_h=kl_val[0]-width\n",
    "    \n",
    "    kl_pos=(n_kl_h,n_kl_w)\n",
    "    \n",
    "    dis_x = (center[0]-kl_pos[0])\n",
    "    dis_y = (center[1]-kl_pos[1])\n",
    "    \n",
    "    dist=np.sqrt(dis_x*dis_x+dis_y*dis_y)\n",
    "\n",
    "    if dist <= r_break:\n",
    "        spat_filter_value = spatialFilter(dist,0,sigma,alpha,beta)\n",
    "    else:\n",
    "        spat_filter_value = 0.\n",
    "    \n",
    "    return spat_filter_value"
   ]
  },
  {
   "cell_type": "markdown",
   "metadata": {},
   "source": [
    "The function for the filtered output for each frame and parasol cell."
   ]
  },
  {
   "cell_type": "code",
   "execution_count": null,
   "metadata": {
    "collapsed": true
   },
   "outputs": [],
   "source": [
    "def getSpatFilterParasol(ij):\n",
    "    \n",
    "    if ij[0]%5==0:\n",
    "        if ij[1]==0:\n",
    "            print ij[0]\n",
    "    \n",
    "    pos_i = 0.866*par_m_ratio*ij[0]        #2*cos(30deg)\n",
    "    pos_j = par_m_ratio*ij[1]\n",
    "    \n",
    "    if ij[0]%2 == 0:\n",
    "        pos_j += par_m_ratio*0.5 \n",
    "\n",
    "    move = (par_m_ratio)*spat_filter_break_radius/px_midget_ratio\n",
    "    \n",
    "    i_low = int(par_m_ratio*ij[0]-move/0.866) # -> all j with dist < r\n",
    "    i_ceil = int(par_m_ratio*ij[0]+move/0.866)+1  \n",
    "    j_low = int(par_m_ratio*ij[1]-move) # -> all j with dist < r\n",
    "    j_ceil = int(par_m_ratio*ij[1]+move)+1\n",
    "    \n",
    "    pos = (pos_j, pos_i) \n",
    "    \n",
    "    if f==0:\n",
    "        pgrid[0] += [pos_j]\n",
    "        pgrid[1] += [pos_i]\n",
    "        parasol_grid[ij[0]][ij[1]] = pos \n",
    "\n",
    "        \n",
    "    pp=[0. for g in range(frame_number)]\n",
    "    q_len = abs((j_ceil-j_low)*(i_ceil-i_low))\n",
    "    mgiq = [] #0 for q in range(q_len)]\n",
    "    \n",
    "    #next line is only to show the grid \n",
    "    #to_graph = [[0. for l in range(j_ceil-j_low)] for k in range(i_ceil-i_low)]\n",
    "    for k in range(i_low,i_ceil):\n",
    "        for l in range(j_low,j_ceil):\n",
    "            p_spat_filt_values[ij[0]][ij[1]] += [spatFilterParasol(pos,(k,l),(par_m_ratio)*spat_filter_break_radius,par_m_ratio*sigma,alpha,beta)]\n",
    "            mgiq += [temp_filter_vals_on[(midget_height+k)%midget_height][(midget_width+l)%midget_width]]\n",
    "            #if ij[0]==0:\n",
    "            #    if ij[1]==16:\n",
    "            #        to_graph[k-i_low][l-j_low]=spatFilterParasol(pos,(k,l),(par_m_ratio)*spat_filter_break_radius,par_m_ratio*sigma,alpha,beta) \n",
    "    \n",
    "    '''\n",
    "    #leave this for possible further investigation later on\n",
    "    if ij[0]==0:\n",
    "        if ij[1]==16:\n",
    "            fig = plt.figure(1)\n",
    "\n",
    "            ax = fig.add_subplot(111)\n",
    "            ax.set_title('parasolic filter')\n",
    "            plt.imshow(to_graph, aspect='auto', interpolation='nearest')\n",
    "            ax.set_aspect('equal')\n",
    "            plt.axis('off')\n",
    "\n",
    "            cax = fig.add_axes([0.,0.,1.,1.])\n",
    "            cax.get_xaxis().set_visible(False)\n",
    "            cax.get_yaxis().set_visible(False)\n",
    "            cax.patch.set_alpha(0)\n",
    "            cax.set_frame_on(False)\n",
    "            \n",
    "            plt.show()\n",
    "            plt.close()\n",
    "    '''\n",
    "    \n",
    "    for q in xrange(q_len):\n",
    "        w = p_spat_filt_values[ij[0]][ij[1]][q]\n",
    "        muli = [o*w for o in mgiq[q]]\n",
    "        pp = list(itertools.imap(lambda w,z: w+z, muli, pp))\n",
    "        \n",
    "    par_values_on[ij[0]][ij[1]] = pp  "
   ]
  },
  {
   "cell_type": "markdown",
   "metadata": {},
   "source": [
    "Map function terating through all cells."
   ]
  },
  {
   "cell_type": "code",
   "execution_count": null,
   "metadata": {
    "collapsed": true
   },
   "outputs": [],
   "source": [
    "map(lambda x: getSpatFilterParasol(x), itertools.product(range(parasol_height), range(parasol_width)))\n",
    "\n",
    "print 'parasols done'"
   ]
  },
  {
   "cell_type": "markdown",
   "metadata": {},
   "source": [
    "Save grid positions for `ms_network.py` part."
   ]
  },
  {
   "cell_type": "code",
   "execution_count": null,
   "metadata": {
    "collapsed": true
   },
   "outputs": [],
   "source": [
    "m_pos = np.asarray(midget_grid)\n",
    "m_pos_data = open('/data/'+sim_title+'/m_pos_'+str(handle_name)+'.data','w+')\n",
    "np.save(m_pos_data, m_pos)\n",
    "m_pos_data.close()\n",
    "\n",
    "p_pos = np.asarray(parasol_grid)\n",
    "p_pos_data = open('/data/'+sim_title+'/p_pos_'+str(handle_name)+'.data','w+')\n",
    "np.save(p_pos_data, p_pos)\n",
    "p_pos_data.close()"
   ]
  },
  {
   "cell_type": "markdown",
   "metadata": {},
   "source": [
    "Save filtered values and finish program."
   ]
  },
  {
   "cell_type": "code",
   "execution_count": null,
   "metadata": {
    "collapsed": true
   },
   "outputs": [],
   "source": [
    "#--------------------------------------------------------------------------------------------------------OUTPUT\n",
    "p_output = np.asarray(par_values)\n",
    "p_output_on = np.asarray(par_values_on)\n",
    "\n",
    "#---------------------------------------------------------------------------------------------------SAVE-OUTPUT\n",
    "m_data = open('/home/schrader/Documents/microsaccades/data/'+sim_title+'/midget_rates_'+str(handle_name)+'.data','w+')\n",
    "np.save(m_data, m_output)\n",
    "m_data.close()\n",
    "\n",
    "p_data = open('/home/schrader/Documents/microsaccades/data/'+sim_title+'/parasolic_rates_'+str(handle_name)+'.data','w+')\n",
    "np.save(p_data, p_output)\n",
    "p_data.close()\n",
    "\n",
    "m_data = open('/home/schrader/Documents/microsaccades/data/'+sim_title+'/midget_rates_'+str(handle_name)+'_on.data','w+')\n",
    "np.save(m_data, m_output_on)\n",
    "m_data.close()\n",
    "\n",
    "p_data = open('/home/schrader/Documents/microsaccades/data/'+sim_title+'/parasolic_rates_'+str(handle_name)+'_on.data','w+')\n",
    "np.save(p_data, p_output_on)\n",
    "p_data.close()\n",
    "\n",
    "print '--- PROGRAM FINISHED ---'\n",
    "sys.exit()"
   ]
  }
 ],
 "metadata": {
  "anaconda-cloud": {},
  "kernelspec": {
   "display_name": "Python [conda root]",
   "language": "python",
   "name": "conda-root-py"
  },
  "language_info": {
   "codemirror_mode": {
    "name": "ipython",
    "version": 2
   },
   "file_extension": ".py",
   "mimetype": "text/x-python",
   "name": "python",
   "nbconvert_exporter": "python",
   "pygments_lexer": "ipython2",
   "version": "2.7.12"
  }
 },
 "nbformat": 4,
 "nbformat_minor": 1
}

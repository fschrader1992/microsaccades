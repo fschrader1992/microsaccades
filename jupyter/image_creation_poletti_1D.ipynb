{
 "cells": [
  {
   "cell_type": "markdown",
   "metadata": {},
   "source": [
    "# IMAGE CREATION POLETTI ET AL.\n",
    "\n",
    "This program creates the input films for the neural network for the experiments by Poletti et al., except for experiment 2 conditions 7/8."
   ]
  },
  {
   "cell_type": "code",
   "execution_count": null,
   "metadata": {
    "collapsed": false
   },
   "outputs": [],
   "source": [
    "import numpy as np\n",
    "import matplotlib.pyplot as plt\n",
    "import cv2\n",
    "from microsaccades_functions import *\n",
    "import sys\n",
    "import os\n",
    "\n",
    "plt.switch_backend('agg')"
   ]
  },
  {
   "cell_type": "markdown",
   "metadata": {},
   "source": [
    "The main parameters, also read in from the command line.\n",
    "\n",
    "`vel_on`: linear motion with 30arcmin/s off/on.\n",
    "`rem_on`: fixatonal eye movements off/on.\n",
    "`rect`: frame needed? (exp 2).\n",
    "`cem_on`: center movements, if on: frame and dot moved according to fixational EM.\n",
    "\n",
    "\n",
    "$\\sigma$: standard deviation of fEM"
   ]
  },
  {
   "cell_type": "code",
   "execution_count": null,
   "metadata": {
    "collapsed": false
   },
   "outputs": [],
   "source": [
    "#---------------------------------------------------------------------------------------IMAGE-CREATION\n",
    "\n",
    "image_size = 280 #30 #280\n",
    "image_height = 30 #280 #120\n",
    "radius = 4. #dot size of 4arcmin -> 8px\n",
    "rect_size = 110. #size of inner radius \n",
    "vel = 0.06 #velocity is 30 arcmin/s -> 60px/1000ms\n",
    "\n",
    "suff = sys.argv[1]\n",
    "vel_on = int(sys.argv[2])\n",
    "angle = sys.argv[3]\n",
    "rem_on = int(sys.argv[4])\n",
    "rect = int(sys.argv[5])\n",
    "cem_on = int(sys.argv[6])\n",
    "\n",
    "#for 1D\n",
    "angle = 0. #horizontal\n",
    "direction = float(angle)*np.pi/8. #dot moving direction in arc\n",
    "\n",
    "#for normal distributed microsaccades\n",
    "sigma = 0.447\n",
    "\n",
    "file_location = \"/video/img_input/poletti2010/\"+str(suff)\n",
    "\n",
    "film_length = 600 #int(framerate)*(stripe_width+gap)"
   ]
  },
  {
   "cell_type": "markdown",
   "metadata": {},
   "source": [
    "Create and save random walk (in order to compare positions with results later on)"
   ]
  },
  {
   "cell_type": "code",
   "execution_count": null,
   "metadata": {
    "collapsed": false
   },
   "outputs": [],
   "source": [
    "#get normal 2d distribution\n",
    "#use this to get same statistics as for actual 2D random walk -> just take distance \n",
    "mean = [0, 0]\n",
    "cov = [[1, 0], [0, 1]]\n",
    "tl_x, tl_y = sigma*np.random.multivariate_normal(mean, cov, film_length).T\n",
    "\n",
    "#in 1D, use only x-component\n",
    "rm = tl_x #np.sign(tl_x)*np.sqrt(tl_x*tl_x+tl_y*tl_y)\n",
    "\n",
    "d_data = open(file_location+'/displacement.data','w+')\n",
    "np.save(d_data, (tl_x, tl_y))\n",
    "d_data.close()"
   ]
  },
  {
   "cell_type": "code",
   "execution_count": null,
   "metadata": {
    "collapsed": true
   },
   "outputs": [],
   "source": [
    "#initial position\n",
    "pos = (image_height/2.-0.5, image_size/2.-0.5)\n",
    "center = (image_height/2.-0.5,image_size/2.-0.5) #for reference frame"
   ]
  },
  {
   "cell_type": "markdown",
   "metadata": {},
   "source": [
    "This loop creates the primary images. Depending on the chosen options, different parts are included/left out in the images."
   ]
  },
  {
   "cell_type": "code",
   "execution_count": null,
   "metadata": {
    "collapsed": true
   },
   "outputs": [],
   "source": [
    "for f in range(film_length):\n",
    "    canvas = np.zeros((image_height, image_size))\n",
    "    \n",
    "    #update position\n",
    "    #for dot moving task-----------------------\n",
    "    if vel_on==1:\n",
    "        pos = (pos[0]+vel*np.sin(direction),pos[1]+vel*np.cos(direction))\n",
    "    #------------------------------------------\n",
    "    \n",
    "    #for random eye movements------------------\n",
    "    #REPLACED FOR 1D!\n",
    "    if rem_on==1:\n",
    "        #pos = (pos[0]+tl_y[f],pos[1]+tl_x[f])\n",
    "        pos = (pos[0],pos[1]+rm[f])\n",
    "    #------------------------------------------\n",
    "    \n",
    "    #for randomly moving rectangle frame-------\n",
    "    if cem_on==1:\n",
    "        #center = (center[0]+tl_y[f],center[1]+tl_x[f])\n",
    "        center = (center[0],center[1]+rm[f])\n",
    "    #------------------------------------------\n",
    "    \n",
    "    for i in range(image_height):\n",
    "        for j in range(image_size):\n",
    "            #get the distance to the current dot position\n",
    "            dist = np.sqrt((float(i)-pos[0])*(float(i)-pos[0])+(float(j)-pos[1])*(float(j)-pos[1]))\n",
    "            #2arcmin (4px) is the radius of the dot. The transition is smooth\n",
    "            if dist <= 3.5:\n",
    "                canvas[i,j] = 1\n",
    "            elif 3.5 < dist and dist < 4.5:\n",
    "                canvas[i,j] = 4.5 - dist\n",
    "            #rectangle-(exp2)--------------------------\n",
    "            if rect==1:\n",
    "                if abs(float(i)-center[0]) > rect_size or abs(float(j)-center[1])> rect_size:\n",
    "                    canvas[i,j] = 1\n",
    "            #------------------------------------------\n",
    "     "
   ]
  },
  {
   "cell_type": "markdown",
   "metadata": {},
   "source": [
    "Plot the output."
   ]
  },
  {
   "cell_type": "code",
   "execution_count": null,
   "metadata": {
    "collapsed": true
   },
   "outputs": [],
   "source": [
    "    fig = plt.figure()\n",
    "    #fig.set_size_inches(0.25,1)\n",
    "    fig.set_size_inches(2,30./140.)\n",
    "    ax = plt.Axes(fig, [0., 0., 1., 1.])\n",
    "    ax.set_axis_off()\n",
    "    fig.add_axes(ax)\n",
    "    ax.imshow(canvas, cmap='gray')\n",
    "    \n",
    "    plt.savefig(file_location + \"/first\"+str(f+1).zfill(3)+\".png\",  dpi = 140) #120)\n",
    "    plt.close()\n",
    "    \n",
    "    img = cv2.imread(file_location + \"/first\"+str(f+1).zfill(3)+\".png\",0)\n",
    "    rows,cols = img.shape"
   ]
  },
  {
   "cell_type": "markdown",
   "metadata": {},
   "source": [
    "Finally, add the Gaussian blur to the image and save it."
   ]
  },
  {
   "cell_type": "code",
   "execution_count": null,
   "metadata": {
    "collapsed": true
   },
   "outputs": [],
   "source": [
    "    #--------------------------------------------------------------------------------GAUSSIAN-BLURRING\n",
    "    img = cv2.imread(file_location + \"/first\"+str(f+1).zfill(3)+\".png\",0)\n",
    "    rows,cols = img.shape\n",
    "    \n",
    "    blur = cv2.GaussianBlur(img,(3,3),0.5)\n",
    "    \n",
    "    fig = plt.figure()\n",
    "    fig.set_size_inches(2,30./140.)\n",
    "    #fig.set_size_inches(0.25,1)\n",
    "    ax = plt.Axes(fig, [0., 0., 1., 1.])\n",
    "    ax.set_axis_off()\n",
    "    fig.add_axes(ax)\n",
    "    ax.imshow(blur, cmap='gray')\n",
    "    \n",
    "    #be careful with image dimensions\n",
    "    plt.savefig(file_location + \"/second\"+str(f+1).zfill(3)+\".png\",  dpi = int(image_size/2.))\n",
    "    plt.close()"
   ]
  }
 ],
 "metadata": {
  "kernelspec": {
   "display_name": "Python [conda root]",
   "language": "python",
   "name": "conda-root-py"
  },
  "language_info": {
   "codemirror_mode": {
    "name": "ipython",
    "version": 2
   },
   "file_extension": ".py",
   "mimetype": "text/x-python",
   "name": "python",
   "nbconvert_exporter": "python",
   "pygments_lexer": "ipython2",
   "version": "2.7.12"
  }
 },
 "nbformat": 4,
 "nbformat_minor": 1
}

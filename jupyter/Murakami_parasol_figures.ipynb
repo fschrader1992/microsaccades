{
 "cells": [
  {
   "cell_type": "markdown",
   "metadata": {},
   "source": [
    "# FIGURES FOR MURAKAMI (2003)\n",
    "\n",
    "This file produces the figures for the parasol cell output of the entirely continuous model version for Murakami's On-Line Illusion."
   ]
  },
  {
   "cell_type": "code",
   "execution_count": 1,
   "metadata": {
    "collapsed": true
   },
   "outputs": [],
   "source": [
    "# -*- coding: utf-8 -*-\n",
    "import fileinput\n",
    "import os.path\n",
    "\n",
    "import numpy as np\n",
    "import matplotlib.pyplot as plt\n",
    "import matplotlib.cm as cm\n",
    "\n",
    "from matplotlib.ticker import MultipleLocator, FormatStrFormatter\n",
    "\n",
    "#set plot styles\n",
    "pgf_with_rc_fonts = {\"font.family\": \"serif\",\"font.serif\": [],\"font.sans-serif\": []}\n",
    "plt.rcParams.update(pgf_with_rc_fonts)\n",
    "\n",
    "#load data-file with set of (interval length, on period, integrated signal strength)\n",
    "continuous_data = np.loadtxt('jitter/parasol/jcad_par_nm_55_on10_off15_p80.txt',\n",
    "                             delimiter='\\t',\n",
    "                             dtype={'names': ('length','onp','integral'),\n",
    "                                    'formats': ('int16', 'int16', 'float')})"
   ]
  },
  {
   "cell_type": "markdown",
   "metadata": {},
   "source": [
    "Now set the bin size of the time interval `bin` (in ms)."
   ]
  },
  {
   "cell_type": "code",
   "execution_count": 2,
   "metadata": {
    "collapsed": true
   },
   "outputs": [],
   "source": [
    "bin=15"
   ]
  },
  {
   "cell_type": "markdown",
   "metadata": {},
   "source": [
    "Now, select the on periods for the intervals.\n",
    "\n",
    "mdiff is\n",
    "marea is"
   ]
  },
  {
   "cell_type": "code",
   "execution_count": null,
   "metadata": {
    "collapsed": true
   },
   "outputs": [],
   "source": [
    "for period in [60,105,210]:\n",
    "\n",
    "\tplt.close('all')\n",
    "\n",
    "\tmdiff=[]\n",
    "\tmarea=[]\n",
    "\t\n",
    "\tcd=[]\n",
    "\t\n",
    "\tif period == 60:\n",
    "\t\tonpers_c = [0,15,30,45,60] \n",
    "\t\tperiod_c = 60\n",
    "\t\tstretch = 2.\n",
    "        \n",
    "\tif period == 105:\n",
    "\t\tonpers_c = [0,15,30,45,60,75,90,105] \n",
    "\t\tperiod_c = 105\n",
    "\t\tstretch = 1.\n",
    "        \n",
    "\tif period == 210:\n",
    "\t\tonpers_c = [0,30,60,90,120,150,180,210] \n",
    "\t\tperiod_c = 210\n",
    "\t\tstretch = 0.5\n",
    "\t\n",
    "\tfor l in continuous_data:\n",
    "\t\tfor onp_c in onpers_c:\n",
    "\t\t\tif l[0] == period_c and l[1] == int(onp_c):\n",
    "\t\t\t\tcd +=[np.sqrt(l[2])/30.*float(period)]   "
   ]
  },
  {
   "cell_type": "markdown",
   "metadata": {},
   "source": [
    "Normalization with the highest value encountered."
   ]
  },
  {
   "cell_type": "code",
   "execution_count": null,
   "metadata": {
    "collapsed": true
   },
   "outputs": [],
   "source": [
    "    cd_max=max(cd)\n",
    "    cd/=max(cd)"
   ]
  },
  {
   "cell_type": "markdown",
   "metadata": {},
   "source": [
    "Set-up for the graphics."
   ]
  },
  {
   "cell_type": "code",
   "execution_count": null,
   "metadata": {
    "collapsed": true
   },
   "outputs": [],
   "source": [
    "    fig, ax = plt.subplots(1, figsize=(3.3,2.))\n",
    "\n",
    "\tax.plot(onpers_c,cd,'.',color='black',label='continuous model,\\n parasol cells')\n",
    "\tax.set_ylabel('$S(t_{\\mathrm{on}})/S^{\\mathrm{max}}$',fontsize=8)\n",
    "\tax.set_xlabel('On-Duty Time $t_{\\mathrm{on}}$[ms]', ha='center', fontsize=8)\n",
    "\tax.set_xlim([0,period])\n",
    "\tax.set_ylim([0,1.])"
   ]
  },
  {
   "cell_type": "markdown",
   "metadata": {},
   "source": [
    "Specific problems for the different intervals."
   ]
  },
  {
   "cell_type": "code",
   "execution_count": null,
   "metadata": {
    "collapsed": true
   },
   "outputs": [],
   "source": [
    "    if period == 60:\n",
    "\t\tax.legend(loc='upper left',fontsize=8,frameon=False)\n",
    "\t\tax.set_title(\"(a) \"+str(period)+\" ms period\", fontsize=11)\n",
    "\t\tax.set_xticks(np.arange(0, 61, 15)) #[0.,105.,210.,315.,420.])\n",
    "\tif period == 105:\n",
    "\t\tax.set_ylim([0,.3])\n",
    "\t\tax.set_yticks(np.arange(0, 0.31, 0.1))\n",
    "\t\tax.set_xlim([-15,period+15])\n",
    "\t\tax.set_ylabel('Integrated Signal\\n(Normalized)',fontsize=8)\n",
    "\t\tax.set_xlabel('On-Duty Period in 105ms cycle [ms]', ha='center', fontsize=8)\n",
    "\t\tax.set_title(\"Simulation: \"+str(period)+\" ms Period\", fontsize=9)\n",
    "\t\tax.set_xticks(np.arange(0, 106, 15))\n",
    "\t\t#ax.legend(loc='upper left',fontsize=8,frameon=False)\n",
    "\tif period == 210:\n",
    "\t\tax.set_title(\"(c) \"+str(period)+\" ms period\", fontsize=11)\n",
    "\t\tax.set_xticks(np.arange(0, 211, 30))"
   ]
  },
  {
   "cell_type": "markdown",
   "metadata": {},
   "source": [
    "Save figures for each period."
   ]
  },
  {
   "cell_type": "code",
   "execution_count": null,
   "metadata": {
    "collapsed": true
   },
   "outputs": [],
   "source": [
    "    ax.tick_params(labelsize=8)\n",
    "\tplt.tight_layout()\n",
    "    \n",
    "\tplt.savefig('jitter/jitter_murakami_effect_parasol_nm_55_'+str(period)+'ms.pgf')\n",
    "\tplt.savefig('jitter/jitter_murakami_effect_parasol_nm_55_'+str(period)+'ms.pdf')\n",
    "\tplt.show()"
   ]
  }
 ],
 "metadata": {
  "anaconda-cloud": {},
  "kernelspec": {
   "display_name": "Python [conda root]",
   "language": "python",
   "name": "conda-root-py"
  },
  "language_info": {
   "codemirror_mode": {
    "name": "ipython",
    "version": 2
   },
   "file_extension": ".py",
   "mimetype": "text/x-python",
   "name": "python",
   "nbconvert_exporter": "python",
   "pygments_lexer": "ipython2",
   "version": "2.7.12"
  }
 },
 "nbformat": 4,
 "nbformat_minor": 1
}

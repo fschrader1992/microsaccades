{
 "cells": [
  {
   "cell_type": "markdown",
   "metadata": {},
   "source": [
    "This directory contains the main programs used for the investigation of the model. \n",
    "Details about the model are given in the thesis/paper. \n",
    "\n",
    "There are two model versions, one with continuous filter stages and a network part used \n",
    "for the motion detection mechanism and an entirely continuous one.\n",
    "\n",
    "From input image creation to final diagrams, for each important step involved in the simulations one example file is put in a python notebook to explain the code. Some simulations/conditions required some small changes, so some similar files exist. The code should be understandable, after taking a look at the notebooks.\n",
    "\n",
    "The notebooks are only for explanation. Execute the .sh-files (see below) in order to run a whole simulation from beginning to end. In the following there are some remarks first on the files and how they work together and second about the simulations of the different experiments.\n",
    "\n",
    "# File Structure\n",
    "\n",
    "## Input Creation\n",
    "\n",
    "A series of images containing the stimuli is created, used as input for the network.\n",
    "Take a look at the [example file](image_creation_poletti_1D.ipynb) for the conditions of the Poletti experiment.\n",
    "\n",
    "## Network Implementation\n",
    "\n",
    "For the network, the processes are split into a file with the different filter stages and one file ontaining the motion detector apparatus, implemented as a NEST network. \n",
    "* The [continuous filter part](ms_input.ipynb) takes the created series of images as input and delivers rates as output for all neurons (midgets and parasols).\n",
    "* These rates are converted to input for the neurons of the [motion detectors](ms_network.ipynb). In the simulations only parasol cells are evaluated for motion, but another version for midget cells is implemented as well.\n",
    "\n",
    "\n",
    "## Entirely Continuous Version\n",
    "\n",
    "The entirely continuous version is handled within [one file](parasols_continuous_version.ipynb) and only for the 1D case. After the continuous filter stages, the motion detection mechanism evaluates the signal curve and stores the integrated value in an external file for graphics creation.\n",
    "\n",
    "## Evaluation and Figures\n",
    "### Simulations of Poletti et al. (2010)\n",
    "\n",
    "The simulations of this experiment are conducted with the spiking version of the model. For the evaluation, spike events in the center and the outer region are binned in time intervals of length $\\Delta t$ and compared. Only, if one of the two areas detected spikes, a motion signal is given. This [file](evaluate_poletti.ipynb) replaces the global motion detection network in NEST for the experiment. As we are not interested in the properties of this network and less parameters and fine tuning are required, this is a shortcut to get the results produced by the early stages of the model. Two versions, one evaluating the motion detectors, tho other the parasol cells, are implemented.\n",
    "\n",
    "At the end, [histograms](Poletti_1D_figures.ipynb) of the percentage of bins with differential motion (resembling the experimental results) are plotted.\n",
    "\n",
    "### Simulations of Murakami (2003)\n",
    "\n",
    "For Murakami's On-Line Illusion the entirely continuous model version is used. The integrated amplitude is simply put into [graphics](Murakami_parasol_figures.ipynb) normalized to the maximum output. There's also a python file to plot the signal strength of midget cells for different temporal filter constants (as found in the thesis).\n",
    "\n",
    "### Other Tasks\n",
    "\n",
    "Images of the Out-Of-Focus as well as movies for Murakami's On-Line Illusion can be created for observation.\n",
    "\n",
    "## Bash scripts\n",
    "\n",
    "The example files/notebooks are just for explanation. Whole simulations, from input creation to final figure output, are managed in bash scripts, ready for execution. Parameters can be changed in the lines \n",
    "\n",
    "/here will be a list of these scripts."
   ]
  }
 ],
 "metadata": {
  "anaconda-cloud": {},
  "kernelspec": {
   "display_name": "Python [conda root]",
   "language": "python",
   "name": "conda-root-py"
  },
  "language_info": {
   "codemirror_mode": {
    "name": "ipython",
    "version": 2
   },
   "file_extension": ".py",
   "mimetype": "text/x-python",
   "name": "python",
   "nbconvert_exporter": "python",
   "pygments_lexer": "ipython2",
   "version": "2.7.12"
  }
 },
 "nbformat": 4,
 "nbformat_minor": 1
}

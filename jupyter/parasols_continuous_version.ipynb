{
 "cells": [
  {
   "cell_type": "markdown",
   "metadata": {},
   "source": [
    "# CONTINUOUS MODEL VERSION - PARASOL CELLS\n",
    "\n",
    "This is a full simulation of the continuous model version for parasol cells. The simulation time resolution is 0.2ms."
   ]
  },
  {
   "cell_type": "code",
   "execution_count": null,
   "metadata": {
    "collapsed": true
   },
   "outputs": [],
   "source": [
    "# -*- coding: utf-8 -*-\n",
    "import fileinput\n",
    "import os.path\n",
    "from scipy.optimize import curve_fit\n",
    "from scipy import integrate\n",
    "\n",
    "import numpy as np\n",
    "import matplotlib.pyplot as plt\n",
    "import matplotlib.cm as cm\n",
    "import matplotlib.mlab as mlab\n",
    "import itertools\n",
    "\n",
    "pgf_with_rc_fonts = {\"font.family\": \"serif\",\"font.serif\": [],\"font.sans-serif\": []}\n",
    "plt.rcParams.update(pgf_with_rc_fonts)\n",
    "\n",
    "plt.close('all')"
   ]
  },
  {
   "cell_type": "markdown",
   "metadata": {},
   "source": [
    "First, define all the needed filter functions. $t_{on}$, $t_{off}$ and `fac` $\\equiv p$ are the main parameters for this simulation. They are left as default values here."
   ]
  },
  {
   "cell_type": "code",
   "execution_count": null,
   "metadata": {
    "collapsed": true
   },
   "outputs": [],
   "source": [
    "#plot numerically integrated results of moving edge\n",
    "def temporalFilter(t,tau1,tau2,p):\n",
    "    return (t*t*t/(tau1*tau1*tau1*tau1)*np.exp(-t/tau1)-p*t*t*t/(tau2*tau2*tau2*tau2)*np.exp(-t/tau2))\n",
    "\t\n",
    "def spatialFilter(x,x0,sigma,alpha,beta):\n",
    "    return np.exp(-(x-x0)*(x-x0)/(2*sigma*sigma))-alpha*np.exp(-(x-x0)*(x-x0)/(2*beta*beta*sigma*sigma))\n",
    "def spatialFilterCenter(x,x0,sigma):\n",
    "    return np.exp(-(x-x0)*(x-x0)/(2*sigma*sigma))\n",
    "def spatialFilterSurround(x,x0,sigma,alpha,beta):\n",
    "    return alpha*np.exp(-(x-x0)*(x-x0)/(2*beta*beta*sigma*sigma))\n",
    "\n",
    "t_ons = [10.] #[5.,2.5,7.5,13.,5.,5.,2.5,10.]\n",
    "t_offs = [15.] #[15.,15.,15.,15.,15.,15.,7.5,30.]\n",
    "fac = [0.8] #[0.8,0.8,0.8,0.8,0.65,0.95,0.8,0.8] #p "
   ]
  },
  {
   "cell_type": "markdown",
   "metadata": {},
   "source": [
    "For each of these triples, define the standard values for the filters."
   ]
  },
  {
   "cell_type": "code",
   "execution_count": null,
   "metadata": {
    "collapsed": true
   },
   "outputs": [],
   "source": [
    "for to in zip(t_ons,t_offs,fac):\n",
    "    #just to make sure that the variables have the right values\t\n",
    "    on_tau1 = to[0]\n",
    "    on_tau2 = to[1]\n",
    "    on_p = to[2]\n",
    "\n",
    "    alpha = .1\n",
    "    beta = 3. #CSR\n",
    "    sigma = .5 # parasolic/midget cell ratio * sigma (=1)\n",
    "    px_midget_ratio = 1. #pixel to receptor ratio, needed for receptor distance/number\n",
    "    px_dist= 0.5 #in arcmin, from paper\n",
    "    par_m_ratio = 4. #2arcmin center field sigma from paper\n",
    "    x0 = 0\n",
    "    \n",
    "    p_min_threshold = 55. #threshold such that linear motion with vel=1. doesn't cause reation in parasol cells\n",
    "\n",
    "    tfv = []\n",
    "    tfo = []\n",
    "    spat = []\n",
    "    me=[]\n",
    "    me2=[]"
   ]
  },
  {
   "cell_type": "markdown",
   "metadata": {},
   "source": [
    "This method is used for the simulation of a bar moving linearly in one direction, with different on/off periods. The spatial filters are applied first, as they are not dependent on the on/off periods (for off periods, the spatial filter process will lead 0 as a result for all cells)."
   ]
  },
  {
   "cell_type": "code",
   "execution_count": null,
   "metadata": {
    "collapsed": true
   },
   "outputs": [],
   "source": [
    "    #this is the simulated time, as the cycle interval is 105ms \n",
    "    st = np.linspace(0,430,430*5)\n",
    "    st = np.linspace(0,210,210*5)\n",
    "\n",
    "    for i in range(430*5):\n",
    "        me+=[0.]\n",
    "        me2+=[0.]\n",
    "        \n",
    "    #the velocity of the moving bar in units of the simulation\n",
    "    vel=1. #2., 0.5, 0.25, 4.\n",
    "    velocity=0.625*120.*0.001*vel \n",
    "    velocity_stat=0.625*120.*0.001 #=0.075\n",
    "\n",
    "    #get the spatially filtered signals\n",
    "    for step in range(0,int((500/vel+2*630)*5)):\n",
    "        spat += [integrate.quad(spatialFilter,-630*velocity-30*vel+0.2*velocity*step,-630*velocity+0.2*velocity*step,args=(x0,sigma,alpha,beta))[0]] #0.1*step\n",
    "    \n",
    "    #generate the bare temporal filter curve\n",
    "    for step in range(0,5*200):\t\n",
    "        tfv += [temporalFilter(0.2*step,on_tau1,on_tau2,on_p)] #0.1*step,on_tau1,on_tau2,on_p)]\t\n",
    "\n",
    "    psf = []\n",
    "    for x in range(65):\n",
    "        xi=x-32\n",
    "        psf += [spatialFilter(xi,0,8.*sigma,alpha,beta)]\n",
    "    psflen2 = len(psf)/2\n",
    "    \n",
    "    spat=np.asarray(spat)"
   ]
  },
  {
   "cell_type": "code",
   "execution_count": null,
   "metadata": {
    "collapsed": true
   },
   "outputs": [],
   "source": [
    "    fig_labels = [\"a\",\"b\",\"c\",\"d\",\"e\",\"f\",\"g\",\"h\"]\n",
    "\n",
    "    #if |f'(t)| > epsilon -> take data for area\n",
    "    epsilon = 0.0005\n",
    "    meps = 20.\n",
    "    mdthr = 15.\n",
    "    mdthr2 = 0.1\n",
    "    #motion detector time interval as related to the velocity\n",
    "    mdf = 1. \n",
    "\n",
    "    #open files\n",
    "    dfile = 'jitter/parasol/jcad_par_nm_55_on'+str(int(on_tau1))+'_off'+str(int(on_tau2))+'_p'+str(int(100*on_p))+'.txt'\n",
    "    treg = 'jitter/parasol/data/tdiff_par_nm_55_on'+str(int(on_tau1))+'_off'+str(int(on_tau2))+'_p'+str(int(100*on_p))\n",
    "    me_r_treg = 'jitter/parasol/data/me_r_par_nm_55_on'+str(int(on_tau1))+'_off'+str(int(on_tau2))+'_p'+str(int(100*on_p))\n",
    "    me105_r_treg = 'jitter/parasol/data/me105_r_par_nm_55_on'+str(int(on_tau1))+'_off'+str(int(on_tau2))+'_p'+str(int(100*on_p))\n"
   ]
  },
  {
   "cell_type": "markdown",
   "metadata": {},
   "source": [
    "Start the iteration for the different periods."
   ]
  },
  {
   "cell_type": "code",
   "execution_count": null,
   "metadata": {
    "collapsed": false
   },
   "outputs": [],
   "source": [
    "    for period in [60,105,210]:\n",
    "        fig, (ax) = plt.subplots(3, 2, sharex=True, sharey=True, figsize=(5,6))\n",
    "\n",
    "        if period == 60:\n",
    "            onpers = [60,15,30,45] \n",
    "            stretch = 105./60.\n",
    "        if period == 105:\n",
    "            onpers = [105,15,30,45,60,75,90] \n",
    "            stretch = 1.\n",
    "        if period == 210:\n",
    "            onpers = [210,30,60,90,120,150,180]\n",
    "            stretch = 0.5\n",
    "\n",
    "        cdata_file = open(dfile,'a+')\n",
    "        cdata_file.write(str(period)+'\\t'+str(0)+'\\t'+str(0.)+'\\t'+str(0.)+'\\t'+str(0.)+'\\n')\n",
    "        cdata_file.close()"
   ]
  },
  {
   "cell_type": "markdown",
   "metadata": {},
   "source": [
    "Iterate through different op-duty periods."
   ]
  },
  {
   "cell_type": "code",
   "execution_count": null,
   "metadata": {
    "collapsed": false
   },
   "outputs": [],
   "source": [
    "        j=0\n",
    "        for onp in onpers:\n",
    "            print onp, period\n",
    "            #INITIALIZE\n",
    "            #if that's the case, get the baseline me105_l/r\n",
    "            if onp == period:\n",
    "                me105_l=[]\n",
    "                me105_r=[]\n",
    "                for i in range(430*5):\n",
    "                    me105_l+=[0.]\n",
    "                    me105_r+=[0.]\n",
    "                me105_l_2=[]\n",
    "                me105_r_2=[]\n",
    "                for i in range(430*5):\n",
    "                    me105_l_2+=[0.]\n",
    "                    me105_r_2+=[0.]\n",
    "            else:\n",
    "                me_l=[]\n",
    "                me_r=[]\n",
    "                for i in range(430*5):\n",
    "                    me_l+=[0.]\n",
    "                    me_r+=[0.]\n",
    "                me_l_2=[]\n",
    "                me_r_2=[]\n",
    "                for i in range(430*5):\n",
    "                    me_l_2+=[0.]\n",
    "                    me_r_2+=[0.]"
   ]
  },
  {
   "cell_type": "code",
   "execution_count": null,
   "metadata": {
    "collapsed": true
   },
   "outputs": [],
   "source": [
    "            #spatial filter input is just a moving heaviside convolved with the filter function\n",
    "    \n",
    "            #used during process\n",
    "            star=np.zeros((int(float(len(spat)-5.*630.)/5.*velocity_stat),630*5))\n",
    "            xmnl = int(float(len(spat)-5.*630.)/5.*velocity_stat)\n",
    "            #for each midget cell in simulated area\n",
    "            for xn in range(xmnl):\n",
    "                xz=xn\n",
    "                kl=0\n",
    "                tfo =[]\n",
    "                sfo =[]\n",
    "                sfo_step =[]\n",
    "\n",
    "                #for each timestep\n",
    "                for step in range(0,630*5):\n",
    "                    \n",
    "                    #create off period for specific midget cell\n",
    "                    if onp != period:  #otherwise it will alternate for one step in that case\n",
    "                        \n",
    "                        #SET VALUES TO 0, IF OFF DUTY PERIOD\n",
    "                        #onp: on period, vary here for 52.5 and 210ms (0.2*stretch*step)\n",
    "                        if (0.2*stretch*step)%(105) >= stretch*onp: \n",
    "                            sfo += [0.]\n",
    "                        else:\n",
    "                            sfo += [spat[int(float(xn)/velocity_stat)*5 +step]]\n",
    "                            \n",
    "                    else:\n",
    "                        sfo += [spat[int(float(xn)/velocity_stat)*5 +step]]"
   ]
  },
  {
   "cell_type": "markdown",
   "metadata": {},
   "source": [
    "After setting the spatially filtered values to zero for off-duty times, the temporal filter can be apllied to the adopted input."
   ]
  },
  {
   "cell_type": "code",
   "execution_count": null,
   "metadata": {
    "collapsed": true
   },
   "outputs": [],
   "source": [
    "                #temporal filtering \n",
    "                for step in range(420*5):\n",
    "                    sfo_step.insert(0, sfo[step])\n",
    "                    if step > 200*5:\n",
    "                        del sfo_step[-1]\n",
    "\n",
    "                    tfvs=[]\n",
    "                    #convolution\n",
    "                    step_ts = sum(itertools.imap(lambda x,y: x*y, tfv, sfo_step))\n",
    "                    tfo = step_ts \n",
    "                    #rectification\n",
    "                    if tfo>0 :\n",
    "                        star[xz][step]= tfo"
   ]
  },
  {
   "cell_type": "markdown",
   "metadata": {},
   "source": [
    "After the filter stages for the midget cells/subunits, the rectified signal can be spatially filtered gain by the parasol cells."
   ]
  },
  {
   "cell_type": "code",
   "execution_count": null,
   "metadata": {
    "collapsed": true
   },
   "outputs": [],
   "source": [
    "            #parasol part\n",
    "            pstar=np.zeros((int(float(len(spat)-5.*630.)/5.*velocity_stat/8.), 630*5))#\n",
    "            xpnl = int(float(len(spat)-5.*630.)/5.*velocity_stat/8.)\n",
    "            for xn in range(xpnl):\n",
    "                #distance between two parasol cells\n",
    "                xz=8*xn\n",
    "                kl=0\n",
    "                \n",
    "                #here circular bdry cond.\n",
    "                for step in range(0,420*5):\n",
    "                    for xsm in range(xz-32,xz+33):\n",
    "                        #parasol filter value times subunit value at time step\n",
    "                        pstar[xn][step] += psf[xsm-xz+psflen2]*star[(xsm+xmnl)%xmnl][step]\n",
    "                    #parasol threshold\n",
    "                    pstar[xn][step] -= p_min_threshold\n",
    "                    #rectification\n",
    "                    if pstar[xn][step] <= 0.:\n",
    "                        pstar[xn][step] = 0."
   ]
  },
  {
   "cell_type": "markdown",
   "metadata": {},
   "source": [
    "Now the motion detection mechanism is implemented. For details, cf. thesis."
   ]
  },
  {
   "cell_type": "code",
   "execution_count": null,
   "metadata": {
    "collapsed": true
   },
   "outputs": [],
   "source": [
    "            thr = 0.\n",
    "            mdf = 1.\n",
    "        \n",
    "            #new motion detection mechanism\n",
    "            #motion energy is the current value plus the last one\n",
    "            meps = 0.\n",
    "            for xn in range(xpnl):\n",
    "                xz=8*xn\n",
    "                for step in range(0,420*5):\n",
    "                    #avoid initialization effects\n",
    "                    if step > 200*5:\n",
    "                        if onp != period:\n",
    "                            if (pstar[xn][step] > pstar[xn][step-int(mdf*5./velocity)]) and pstar[xn][step] > meps:\n",
    "                                if pstar[(xn+1+xpnl)%xpnl][step-int(mdf*5./velocity)] > pstar[(xn-1+xpnl)%xpnl][step-int(mdf*5./velocity)]:\n",
    "                                    me_r[step-200*5] += pstar[xn][step] + pstar[(xn-1+xpnl)%xpnl][step-int(mdf*5./velocity)] \n",
    "                                elif pstar[(xn+1+xpnl)%xpnl][step-int(mdf*5./velocity)] < pstar[(xn-1+xpnl)%xpnl][step-int(mdf*5./velocity)]:\n",
    "                                    me_r[step-200*5] -= pstar[xn][step] + pstar[(xn+1+xpnl)%xpnl][step-int(mdf*5./velocity)] \n",
    "                            elif (pstar[xn][step] < pstar[xn][step-int(mdf*5./velocity)]) and pstar[xn][step] > meps:\n",
    "                                if pstar[(xn+1+xpnl)%xpnl][step-int(mdf*5./velocity)] < pstar[(xn-1+xpnl)%xpnl][step-int(mdf*5./velocity)]:\n",
    "                                    me_r[step-200*5] += pstar[xn][step] + pstar[(xn-1+xpnl)%xpnl][step-int(mdf*5./velocity)] \n",
    "                                elif pstar[(xn+1+xpnl)%xpnl][step-int(mdf*5./velocity)] > pstar[(xn-1+xpnl)%xpnl][step-int(mdf*5./velocity)]:\n",
    "                                    me_r[step-200*5] -= pstar[xn][step] + pstar[(xn+1+xpnl)%xpnl][step-int(mdf*5./velocity)] \n",
    "                        #if baseline\n",
    "                        else:\n",
    "                            if (pstar[xn][step] > pstar[xn][step-int(mdf*5./velocity)]) and pstar[xn][step] > meps:\n",
    "                                if pstar[(xn+1+xpnl)%xpnl][step-int(mdf*5./velocity)] > pstar[(xn-1+xpnl)%xpnl][step-int(mdf*5./velocity)]:\n",
    "                                    me105_r[step-200*5] += pstar[xn][step] + pstar[(xn-1+xpnl)%xpnl][step-int(mdf*5./velocity)] \n",
    "                                elif pstar[(xn+1+xpnl)%xpnl][step-int(mdf*5./velocity)] < pstar[(xn-1+xpnl)%xpnl][step-int(mdf*5./velocity)]:\n",
    "                                    me105_r[step-200*5] -= pstar[xn][step] + pstar[(xn+1+xpnl)%xpnl][step-int(mdf*5./velocity)] \n",
    "                            elif (pstar[xn][step] < pstar[xn][step-int(mdf*5./velocity)]) and pstar[xn][step] > meps:\n",
    "                                if pstar[(xn+1+xpnl)%xpnl][step-int(mdf*5./velocity)] < pstar[(xn-1+xpnl)%xpnl][step-int(mdf*5./velocity)]:\n",
    "                                    me105_r[step-200*5] += pstar[xn][step] + pstar[(xn-1+xpnl)%xpnl][step-int(mdf*5./velocity)] \n",
    "                                elif pstar[(xn+1+xpnl)%xpnl][step-int(mdf*5./velocity)] > pstar[(xn-1+xpnl)%xpnl][step-int(mdf*5./velocity)]:\n",
    "                                    me105_r[step-200*5] -= pstar[xn][step] + pstar[(xn+1+xpnl)%xpnl][step-int(mdf*5./velocity)] "
   ]
  },
  {
   "cell_type": "markdown",
   "metadata": {},
   "source": [
    "Evaluation part. Save all curves to files. \n",
    "\n",
    "`tdiff` is the differece of motion signal between the current on-duty time and the baseline, meaning 100% on-duty period."
   ]
  },
  {
   "cell_type": "code",
   "execution_count": null,
   "metadata": {
    "collapsed": false
   },
   "outputs": [],
   "source": [
    "            if onp != period:\n",
    "                me105_l = np.asarray(me105_l)\n",
    "                me105_r = np.asarray(me105_r)\n",
    "\n",
    "                me_r = np.asarray(me_r)\n",
    "                me_l = np.asarray(me_l)\n",
    "\n",
    "                me105_l_2 = np.asarray(me105_l_2)\n",
    "                me105_r_2 = np.asarray(me105_r_2)\n",
    "\n",
    "                me_r_2 = np.asarray(me_r_2)\n",
    "                me_l_2 = np.asarray(me_l_2)\n",
    "                \n",
    "                #veldiff_l = me_l - me_l_2\n",
    "                #veldiff_r = me_r - me_r_2\n",
    "\n",
    "                #here comes the actual output part\n",
    "                diff = me_r-me_l\n",
    "                diff105 = me105_r-me105_l\n",
    "\n",
    "                diff_2 = me_r_2-me_l_2\n",
    "                diff105_2 = me105_r_2-me105_l_2\n",
    "                \n",
    "                #if contrast should be taken into account\n",
    "                #contr = float(onp)/float(period)*np.ones(len(diff105))\n",
    "                \n",
    "                tdiff = diff-diff105 \n",
    "                \n",
    "                #save curves to files\n",
    "                t_data = open(treg+'_per'+str(period)+'_onp'+str(onp)+'.npy','w+')\n",
    "                np.savetxt(t_data, tdiff.astype(float), delimiter=\",\")\n",
    "                t_data.close()\n",
    "                diff_data = open(treg+'_per'+str(period)+'_onp'+str(onp)+'.npy','w+')\n",
    "                np.savetxt(diff_data, diff.astype(float), delimiter=\",\")\n",
    "                diff_data.close()\n",
    "                diff_105_data = open(treg+'_per'+str(period)+'_onp'+str(onp)+'.npy','w+')\n",
    "                np.savetxt(diff_105_data, diff105.astype(float), delimiter=\",\")\n",
    "                diff_105_data.close()\n",
    "                me_r_data = open(me_r_treg+'_per'+str(period)+'_onp'+str(onp)+'.npy','w+')\n",
    "                np.savetxt(me_r_data, me_r.astype(float), delimiter=\",\")\n",
    "                me_r_data.close()\n",
    "                me105_r_data = open(me105_r_treg+'_per'+str(period)+'_onp'+str(onp)+'.npy','w+')\n",
    "                np.savetxt(me105_r_data, me_r.astype(float), delimiter=\",\")\n",
    "                me105_r_data.close()"
   ]
  },
  {
   "cell_type": "markdown",
   "metadata": {},
   "source": [
    "Calculating the output $S(t_{on})$. The area between the curves is integrated.\n",
    "The total motion signal $S_{tot}$ has to be larger than the threshold $0<\\varepsilon$. Also the signal itself has to be larger than 0."
   ]
  },
  {
   "cell_type": "code",
   "execution_count": null,
   "metadata": {
    "collapsed": false
   },
   "outputs": [],
   "source": [
    "                thr = min(tdiff)\n",
    "\n",
    "                contr = float(onp)/float(period)\n",
    "\n",
    "                dx = 0.\n",
    "                dy = 0.\n",
    "                area = 0.\n",
    "                \n",
    "                df = [tdiff[step+1]-tdiff[step] for step in range(len(me105_l)-2)]\n",
    "                \n",
    "                for step in range(len(me105_l)-2):\n",
    "                    if tdiff[step] < 0. and me_r[step]*me_r[step] > 0:  #if |f'| > epsilon\n",
    "                        dx += 0.2   # step width, use boxes\n",
    "                        dy += np.sqrt((tdiff[step]+tdiff[step+1])*(tdiff[step]+tdiff[step+1]))/2.  # |displacement| -> mean value\n",
    "\n",
    "                area = dx*dy\n",
    "\n",
    "                cdata_file = open(dfile,'a+')\n",
    "                cdata_file.write(str(period)+'\\t'+str(onp)+'\\t'+str(area)+'\\t'+str(dx)+'\\t'+str(dy)+'\\n')\n",
    "                cdata_file.close()\n",
    "\n",
    "                df += [df[len(me105_l)-3]]\n",
    "                df += [df[len(me105_l)-3]]\n",
    "\n",
    "                df = np.asarray(df)"
   ]
  },
  {
   "cell_type": "markdown",
   "metadata": {},
   "source": [
    "Some more lines to plot the resulting curves for `tdiff` etc."
   ]
  },
  {
   "cell_type": "code",
   "execution_count": null,
   "metadata": {
    "collapsed": true
   },
   "outputs": [],
   "source": [
    "                ax[j/2][j%2].set_title(\"(\"+fig_labels[j]+\") on \" + str(onp)+\" ms\", fontsize=11)\n",
    "                ax[j/2][j%2].plot(st[0:210*5], me_l[10*5:220*5], color='limegreen', label='leftward')\n",
    "                ax[j/2][j%2].plot(st[0:210*5], me_r[10*5:220*5], color='darkgreen', label='rightward')\n",
    "                ax[j/2][j%2].plot(st[0:210*5], me105_l[10*5:220*5], color='orange', label='leftward')\n",
    "                ax[j/2][j%2].plot(st[0:210*5], me105_r[10*5:220*5], color='red', label='rightward')\n",
    "                ax[j/2][j%2].plot(st[0:210*5], diff[10*5:220*5], color='black', label='diff')\n",
    "\n",
    "                if period == 210:\n",
    "                    ax[j/2][j%2].axvspan(210.-(105.-stretch*onp), 210., color='lightgray', linewidth=0, alpha=0.5,zorder=2)\n",
    "                    ax[j/2][j%2].axvspan(420.-(105.-stretch*onp), 420., color='lightgray', linewidth=0, alpha=0.5,zorder=2)\n",
    "                if period == 105:\n",
    "                    ax[j/2][j%2].axvspan(105.-(105.-stretch*onp), 105., color='lightgray', linewidth=0, alpha=0.5,zorder=2)\n",
    "                    ax[j/2][j%2].axvspan(210.-(105.-stretch*onp), 210., color='lightgray', linewidth=0, alpha=0.5,zorder=2)\n",
    "                    ax[j/2][j%2].axvspan(315.-(105.-stretch*onp), 315., color='lightgray', linewidth=0, alpha=0.5,zorder=2)\n",
    "                    ax[j/2][j%2].axvspan(420.-(105.-stretch*onp), 420., color='lightgray', linewidth=0, alpha=0.5,zorder=2)\n",
    "\n",
    "                if period == 60:\n",
    "                    ax[j/2][j%2].axvspan(60.-(60.-stretch*onp), 60., color='lightgray', linewidth=0, alpha=0.5,zorder=2)\n",
    "                    ax[j/2][j%2].axvspan(120.-(60.-stretch*onp), 120., color='lightgray', linewidth=0, alpha=0.5,zorder=2)\n",
    "                    ax[j/2][j%2].axvspan(180.-(60.-stretch*onp), 180., color='lightgray', linewidth=0, alpha=0.5,zorder=2)\n",
    "                    ax[j/2][j%2].axvspan(240.-(60.-stretch*onp), 240., color='lightgray', linewidth=0, alpha=0.5,zorder=2)\n",
    "                    ax[j/2][j%2].axvspan(200.-(60.-stretch*onp), 200., color='lightgray', linewidth=0, alpha=0.5,zorder=2)\n",
    "                    ax[j/2][j%2].axvspan(360.-(60.-stretch*onp), 360., color='lightgray', linewidth=0, alpha=0.5,zorder=2)\n",
    "                    ax[j/2][j%2].axvspan(420.-(60.-stretch*onp), 420., color='lightgray', linewidth=0, alpha=0.5,zorder=2)\n",
    "\n",
    "                tdd = tdiff[10*5:220*5]\n",
    "                y2 = np.ma.masked_less(me_r, 0.01)\n",
    "\n",
    "                ax[j/2][j%2].set_xlim([0.,210.]) #420.])\n",
    "                ax[j/2][j%2].set_xticks(np.arange(0, 211, 52.5)) #[0.,105.,210.,315.,420.])\n",
    "                ax[j/2][j%2].tick_params(labelsize=8)\n",
    "\n",
    "                if onp == 15:\n",
    "                    ax[j/2][j%2].legend(fontsize=8,ncol=2,loc='upper left')\n",
    "\n",
    "                j+=1"
   ]
  },
  {
   "cell_type": "markdown",
   "metadata": {},
   "source": [
    "Plot the curves for each time period to one file."
   ]
  },
  {
   "cell_type": "code",
   "execution_count": null,
   "metadata": {
    "collapsed": false
   },
   "outputs": [],
   "source": [
    "        #add the values for the whole on-duty period to the list (all equal 0.)\n",
    "        cdata_file = open(dfile,'a+')\n",
    "        cdata_file.write(str(period)+'\\t'+str(period)+'\\t'+str(0.)+'\\t'+str(0.)+'\\t'+str(0.)+'\\n')\n",
    "        cdata_file.close()\n",
    "\n",
    "        fig.text(0.015, 0.5, '$S(t)$ [Arbitrary Units]', ha='center', va='center', fontsize=8, rotation=90)\n",
    "        fig.text(0.5,0.01, 'Time $t$ [ms]', ha='center', fontsize=8)\n",
    "        plt.tight_layout()\n",
    "        \n",
    "        plt.show()\n",
    "        plt.savefig('jitter/parasol/jmsa_par_nm_55_on'+str(int(on_tau1))+'_off'+str(int(on_tau2))+'_p'+str(int(100*on_p))+'_'+str(period)+'ms.pdf')\n",
    "        plt.savefig('jitter/parasol/jmsa_par_nm_55_on'+str(int(on_tau1))+'_off'+str(int(on_tau2))+'_p'+str(int(100*on_p))+'_'+str(period)+'ms.pgf')\n",
    "\n",
    "        plt.close('all')"
   ]
  },
  {
   "cell_type": "code",
   "execution_count": null,
   "metadata": {
    "collapsed": true
   },
   "outputs": [],
   "source": []
  }
 ],
 "metadata": {
  "anaconda-cloud": {},
  "kernelspec": {
   "display_name": "Python [conda root]",
   "language": "python",
   "name": "conda-root-py"
  },
  "language_info": {
   "codemirror_mode": {
    "name": "ipython",
    "version": 2
   },
   "file_extension": ".py",
   "mimetype": "text/x-python",
   "name": "python",
   "nbconvert_exporter": "python",
   "pygments_lexer": "ipython2",
   "version": "2.7.12"
  }
 },
 "nbformat": 4,
 "nbformat_minor": 1
}

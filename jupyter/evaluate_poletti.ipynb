{
 "cells": [
  {
   "cell_type": "markdown",
   "metadata": {},
   "source": [
    "# EVLUATION OF POLETTI SIMULATIONS\n",
    "\n",
    "This program is used to evaluate the simulations for the experiments conducted by Poletti et al. It compares spiking events in the center with spikes in the outer region. If both regions show spikes during time frame of duration $t_{bin}$, there is no differential motion counted."
   ]
  },
  {
   "cell_type": "code",
   "execution_count": null,
   "metadata": {
    "collapsed": true
   },
   "outputs": [],
   "source": [
    "import pylab as pyl\n",
    "import numpy as np\n",
    "import cv2\n",
    "import sys\n",
    "import os\n",
    "\n",
    "if len(sys.argv)==9:\n",
    "    sim_title = sys.argv[1]\n",
    "    sim_title_2 = sys.argv[2]\n",
    "    sim_nr = sys.argv[3]\n",
    "    handle_name = sys.argv[4]\n",
    "    extent_x = float(sys.argv[5])-1.\n",
    "    extent_y = float(sys.argv[6])-1.\n",
    "    exp_nr = sys.argv[7]\n",
    "    cond_nr = sys.argv[8]\n",
    "    sar=True\n",
    "else:\n",
    "    sim_title = sys.argv[1]\n",
    "    sim_nr = sys.argv[2]\n",
    "    handle_name = sys.argv[3]\n",
    "    extent_x = float(sys.argv[4])\n",
    "    extent_y = float(sys.argv[5])-1.\n",
    "    exp_nr = int(float(sys.argv[6]))\n",
    "    cond_nr = int(float(sys.argv[7]))\n",
    "    sim_title_2 = ''\n",
    "    sar=False"
   ]
  },
  {
   "cell_type": "markdown",
   "metadata": {},
   "source": [
    "Setting constants"
   ]
  },
  {
   "cell_type": "code",
   "execution_count": null,
   "metadata": {
    "collapsed": true
   },
   "outputs": [],
   "source": [
    "#for 5ms binning in order to reduce noise \n",
    "bin = 15\n",
    "\n",
    "t_len = 600.\n",
    "#border zone attributed to the frame\n",
    "border = 0.3\n",
    "#threshold for number of spikes in interval counting as coincidental\n",
    "thr = 0\n",
    "border_thr = 0\n",
    "#for exp2 cond 7/8\n",
    "if cond_nr == (7 or 8):\n",
    "\tvel = 0.06\n",
    "else:\n",
    "\tvel = 0.\n",
    "\n",
    "width = extent_x"
   ]
  },
  {
   "cell_type": "markdown",
   "metadata": {},
   "source": [
    "There are two possible evaluation mechanisms: Checking motion detector responses or parasol cells. \n",
    "\n",
    "### Motion detector dependent"
   ]
  },
  {
   "cell_type": "code",
   "execution_count": null,
   "metadata": {
    "collapsed": true
   },
   "outputs": [],
   "source": [
    "#load the spike data\n",
    "fl = open('/data/'+str(sim_title)+'network/'+str(sim_nr)+'/ml_times_pos.txt','r+')\n",
    "fr = open('/data/'+str(sim_title)+'network/'+str(sim_nr)+'/mr_times_pos.txt','r+')\n",
    "\n",
    "#files to write to\n",
    "rr = open('/data/'+str(sim_title)+'network/'+str(sim_nr)+'/coincidence_right_bin'+str(bin)+'_border'+str(int(100*border))+'_thr'+str(thr)+'_bthr'+str(border_thr)+'.txt','w+')\n",
    "rl = open('/data/'+str(sim_title)+'network/'+str(sim_nr)+'/coincidence_left_bin'+str(bin)+'_border'+str(int(100*border))+'_thr'+str(thr)+'_bthr'+str(border_thr)+'.txt','w+')\n",
    "rc_all = open('/data/'+str(sim_title)+'network/'+str(sim_nr)+'/coincidence_all_bin'+str(bin)+'_border'+str(int(100*border))+'_thr'+str(thr)+'_bthr'+str(border_thr)+'.txt','w+')\n",
    "rc_count_all = open('/data/poletti2010/poletti2010_coincidence_count_all_t90_bin'+str(bin)+'_border'+str(int(100*border))+'_thr'+str(thr)+'_bthr'+str(border_thr)+'.txt','a+')\n",
    "\n",
    "#leftward motion - split inner and outer region\n",
    "time_inner_arr=np.zeros(int(t_len/bin))\n",
    "time_outer_arr=np.zeros(int(t_len/bin))\n",
    "\n",
    "#bins filled with 1 if differential motion, otherwise 0\n",
    "#leftward\n",
    "coincidence_arr=np.zeros(int(t_len/bin))\n",
    "#rightward\n",
    "coincidence_r_arr=np.zeros(int(t_len/bin))"
   ]
  },
  {
   "cell_type": "markdown",
   "metadata": {},
   "source": [
    "Now handle the files for leftward and rightward motion"
   ]
  },
  {
   "cell_type": "code",
   "execution_count": null,
   "metadata": {
    "collapsed": true
   },
   "outputs": [],
   "source": [
    "#leftward motion\n",
    "for line in fr:\n",
    "    #handle input file\n",
    "\tif len(line.split(','))>0:\n",
    "\t\tline = line.split(')')[0]\n",
    "\t\tline = line.split('(')[1]\n",
    "        #get time and position\n",
    "\t\tt = int(line.split(',')[0])\n",
    "\t\txpos = float(line.split(',')[2])\n",
    "        #omit first bins in order to leave out starting dynamics\n",
    "\t\tif t > 90:\n",
    "            #split between inner and outer region\n",
    "\t\t\tif xpos > (border*width + vel*float(t)) and xpos < ((1.-border)*width + vel*float(t)):\n",
    "\t\t\t\ttime_inner_arr[int(float(t)/bin)] += 1\n",
    "\t\t\telse:\n",
    "\t\t\t\ttime_outer_arr[int(float(t)/bin)] += 1\n",
    "\n",
    "#if the threshold of the number of spikes within a bin is larger than a threshold thr, add to coincidence list\n",
    "for t in range(int(t_len/bin)):\n",
    "\tif time_inner_arr[t] > thr and time_outer_arr[t] <= border_thr:\n",
    "\t\tcoincidence_r_arr[t] = 1\n",
    "\tif time_inner_arr[t] <= thr and time_outer_arr[t] > border_thr:\n",
    "\t\tcoincidence_r_arr[t] = 1\n",
    "\trr.write(str(t*bin)+'\\t'+str(time_inner_arr[t])+'\\t'+str(time_outer_arr[t])+'\\t'+str(coincidence_r_arr[t])+'\\n')\n",
    "\t\n",
    "    \n",
    "    \n",
    "#rightward motion -> as for leftward\n",
    "time_inner_arr=np.zeros(int(t_len/bin))\n",
    "time_outer_arr=np.zeros(int(t_len/bin))\n",
    "coincidence_l_arr=np.zeros(int(t_len/bin))\n",
    "for line in fl:\n",
    "\tif len(line.split(','))>0:\n",
    "\t\tline = line.split(')')[0]\n",
    "\t\tline = line.split('(')[1]\n",
    "\t\tt = int(line.split(',')[0])\n",
    "\t\txpos = float(line.split(',')[2])\n",
    "\t\tif t > 90:\n",
    "\t\t\tif xpos > (border*width + vel*float(t)) and xpos < ((1.-border)*width + vel*float(t)):\n",
    "\t\t\t\ttime_inner_arr[int(float(t)/bin)] += 1\n",
    "\t\t\telse:\n",
    "\t\t\t\ttime_outer_arr[int(float(t)/bin)] += 1\n",
    "\n",
    "for t in range(int(t_len/bin)):\n",
    "\tif time_inner_arr[t] > thr and time_outer_arr[t] <= border_thr:\n",
    "\t\tcoincidence_l_arr[t] = 1\n",
    "\t\tcoincidence_arr[t] = 1\n",
    "\tif time_inner_arr[t] <= thr and time_outer_arr[t] > border_thr:\n",
    "\t\tcoincidence_l_arr[t] = 1\n",
    "\t\tcoincidence_arr[t] = 1\n",
    "\trl.write(str(t*bin)+'\\t'+str(time_inner_arr[t])+'\\t'+str(time_outer_arr[t])+'\\t'+str(coincidence_l_arr[t])+'\\n')\n",
    "\t\n",
    "#coincidence_arr = coincidence_l_arr*coincidence_r_arr\n",
    "\n",
    "#count number of intervals with 1 \n",
    "ca_count = 0\n",
    "for t in range(int(t_len/bin)):\n",
    "\tif coincidence_arr[t] == 1:\n",
    "\t\tca_count += 1\n",
    "\trc_all.write(str(t*bin)+'\\t'+str(coincidence_arr[t])+'\\n')\t\n",
    "\t\n",
    "rc_count_all.write(str(exp_nr)+'\\t'+str(cond_nr)+'\\t'+str(sim_nr)+'\\t'+str(ca_count)+'\\n')\t\n",
    "\n",
    "rr.close()\n",
    "rl.close()\n",
    "rc_all.close()\n",
    "rc_count_all.close()"
   ]
  },
  {
   "cell_type": "markdown",
   "metadata": {},
   "source": [
    "### Parasol dependent"
   ]
  },
  {
   "cell_type": "code",
   "execution_count": null,
   "metadata": {
    "collapsed": true
   },
   "outputs": [],
   "source": [
    "#FOR PARASOLS INSTEAD\n",
    "fp = open('/home/schrader/Documents/microsaccades/data/'+str(sim_title)+'network/'+str(sim_nr)+'/par_times_pos.txt','r+')\n",
    "rc_count_all = open('/home/schrader/Documents/microsaccades/data/poletti2010/poletti2010_coincidence_parasol_t90_count_all_bin'+str(bin)+'_border'+str(int(100*border))+'_thr'+str(thr)+'_bthr'+str(border_thr)+'.txt','a+')\n",
    "\n",
    "rp = open('/home/schrader/Documents/microsaccades/data/'+str(sim_title)+'network/'+str(sim_nr)+'/coincidence_parasol_bin'+str(bin)+'_border'+str(int(100*border))+'_thr'+str(thr)+'_bthr'+str(border_thr)+'.txt','w+')\n",
    "\n",
    "#leftward motion\n",
    "time_inner_arr=np.zeros(int(t_len/float(bin)))\n",
    "time_outer_arr=np.zeros(int(t_len/float(bin)))\n",
    "\n",
    "coincidence_arr=np.zeros(int(t_len/float(bin)))\n",
    "\n",
    "\n",
    "for line in fp:\n",
    "\tif len(line.split(','))>0:\n",
    "\t\tline = line.split(')')[0]\n",
    "\t\tline = line.split('(')[1]\n",
    "\t\tt = int(line.split(',')[0])\n",
    "\t\txpos = float(line.split(',')[2])\n",
    "\t\tif t > 90:\n",
    "\t\t\tif xpos > (border*width + vel*float(t)) and xpos < ((1.-border)*width + vel*float(t)):\n",
    "\t\t\t\ttime_inner_arr[int(float(t)/float(bin))] += 1\n",
    "\t\t\telse:\n",
    "\t\t\t\ttime_outer_arr[int(float(t)/float(bin))] += 1\n",
    "\n",
    "for t in range(int(t_len/float(bin))):\n",
    "\tif time_inner_arr[t] > thr and time_outer_arr[t] <= border_thr:\n",
    "\t\tcoincidence_arr[t] = 1\n",
    "\tif time_inner_arr[t] <= thr and time_outer_arr[t] > border_thr:\n",
    "\t\tcoincidence_arr[t] = 1\n",
    "\trp.write(str(t*bin)+'\\t'+str(time_inner_arr[t])+'\\t'+str(time_outer_arr[t])+'\\t'+str(coincidence_arr[t])+'\\n')\n",
    "\n",
    "ca_count = 0\n",
    "for t in range(int(t_len/float(bin))):\n",
    "\tif coincidence_arr[t] == 1:\n",
    "\t\tca_count += 1\n",
    "\t\n",
    "rc_count_all.write(str(exp_nr)+'\\t'+str(cond_nr)+'\\t'+str(sim_nr)+'\\t'+str(ca_count)+'\\n')\t\n",
    "\n",
    "rp.close()\n",
    "rc_count_all.close()"
   ]
  }
 ],
 "metadata": {
  "kernelspec": {
   "display_name": "Python [conda root]",
   "language": "python",
   "name": "conda-root-py"
  },
  "language_info": {
   "codemirror_mode": {
    "name": "ipython",
    "version": 2
   },
   "file_extension": ".py",
   "mimetype": "text/x-python",
   "name": "python",
   "nbconvert_exporter": "python",
   "pygments_lexer": "ipython2",
   "version": "2.7.12"
  }
 },
 "nbformat": 4,
 "nbformat_minor": 1
}
